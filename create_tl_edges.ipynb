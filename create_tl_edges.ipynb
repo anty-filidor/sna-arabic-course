{
 "cells": [
  {
   "cell_type": "code",
   "execution_count": 1,
   "metadata": {},
   "outputs": [],
   "source": [
    "from pathlib import Path\n",
    "\n",
    "import pandas as pd"
   ]
  },
  {
   "cell_type": "code",
   "execution_count": 2,
   "metadata": {},
   "outputs": [],
   "source": [
    "reports_path = Path(\"networks\")\n",
    "reports_path.mkdir(exist_ok=True, parents=True)"
   ]
  },
  {
   "cell_type": "code",
   "execution_count": 3,
   "metadata": {},
   "outputs": [],
   "source": [
    "snapshot = 3  # <- change me to obtain egde list from another snapshot\n",
    "\n",
    "ego_net_path = Path(f\"networks/ego_edges/{snapshot}_ego_edges.csv\")\n",
    "course_net_path = Path(f\"networks/course_edges/{snapshot}_course_edges.csv\")\n",
    "\n",
    "nodes_path = Path(f\"networks/{snapshot}_nodes.csv\")"
   ]
  },
  {
   "cell_type": "code",
   "execution_count": 4,
   "metadata": {},
   "outputs": [
    {
     "data": {
      "text/html": [
       "<div>\n",
       "<style scoped>\n",
       "    .dataframe tbody tr th:only-of-type {\n",
       "        vertical-align: middle;\n",
       "    }\n",
       "\n",
       "    .dataframe tbody tr th {\n",
       "        vertical-align: top;\n",
       "    }\n",
       "\n",
       "    .dataframe thead th {\n",
       "        text-align: right;\n",
       "    }\n",
       "</style>\n",
       "<table border=\"1\" class=\"dataframe\">\n",
       "  <thead>\n",
       "    <tr style=\"text-align: right;\">\n",
       "      <th></th>\n",
       "      <th>node_id</th>\n",
       "      <th>cicle_others_TL</th>\n",
       "      <th>psycho_TLmistakes</th>\n",
       "      <th>context_motivation</th>\n",
       "      <th>circle_friends_L2</th>\n",
       "      <th>metric_youngersiblings</th>\n",
       "      <th>cir_writingminday</th>\n",
       "      <th>metric_level gained</th>\n",
       "      <th>circle_partnerwithfamily_L1</th>\n",
       "      <th>circle_classmates_TL</th>\n",
       "      <th>...</th>\n",
       "      <th>psycho_otherlgsminday</th>\n",
       "      <th>living_sharing#sameL1</th>\n",
       "      <th>living_accommodation</th>\n",
       "      <th>psycho_TLstudyenjoyment</th>\n",
       "      <th>context_arrival_TLcountry</th>\n",
       "      <th>improv_gmr</th>\n",
       "      <th>living_communication_TL</th>\n",
       "      <th>psycho_mix_BAL2</th>\n",
       "      <th>cir_f2fpropTL</th>\n",
       "      <th>cir_writingpropL1</th>\n",
       "    </tr>\n",
       "  </thead>\n",
       "  <tbody>\n",
       "    <tr>\n",
       "      <th>0</th>\n",
       "      <td>1</td>\n",
       "      <td>5.0</td>\n",
       "      <td>5.0</td>\n",
       "      <td>work &amp; interests</td>\n",
       "      <td>0.0</td>\n",
       "      <td>9.0</td>\n",
       "      <td>NaN</td>\n",
       "      <td>2.0</td>\n",
       "      <td>15.0</td>\n",
       "      <td>5.0</td>\n",
       "      <td>...</td>\n",
       "      <td>920.0</td>\n",
       "      <td>yes</td>\n",
       "      <td>apartment</td>\n",
       "      <td>5.0</td>\n",
       "      <td>17409.0</td>\n",
       "      <td>3.0</td>\n",
       "      <td>no</td>\n",
       "      <td>5.0</td>\n",
       "      <td>55.0</td>\n",
       "      <td>50.0</td>\n",
       "    </tr>\n",
       "    <tr>\n",
       "      <th>1</th>\n",
       "      <td>2</td>\n",
       "      <td>10.0</td>\n",
       "      <td>4.0</td>\n",
       "      <td>work</td>\n",
       "      <td>5.0</td>\n",
       "      <td>0.0</td>\n",
       "      <td>20.0</td>\n",
       "      <td>3.0</td>\n",
       "      <td>40.0</td>\n",
       "      <td>0.0</td>\n",
       "      <td>...</td>\n",
       "      <td>250.0</td>\n",
       "      <td>yes</td>\n",
       "      <td>apartment</td>\n",
       "      <td>5.0</td>\n",
       "      <td>17409.0</td>\n",
       "      <td>4.0</td>\n",
       "      <td>no</td>\n",
       "      <td>2.0</td>\n",
       "      <td>40.0</td>\n",
       "      <td>75.0</td>\n",
       "    </tr>\n",
       "    <tr>\n",
       "      <th>2</th>\n",
       "      <td>3</td>\n",
       "      <td>15.0</td>\n",
       "      <td>1.0</td>\n",
       "      <td>study</td>\n",
       "      <td>0.0</td>\n",
       "      <td>1.0</td>\n",
       "      <td>15.0</td>\n",
       "      <td>3.0</td>\n",
       "      <td>0.0</td>\n",
       "      <td>15.0</td>\n",
       "      <td>...</td>\n",
       "      <td>5.0</td>\n",
       "      <td>yes</td>\n",
       "      <td>apartment</td>\n",
       "      <td>3.0</td>\n",
       "      <td>17409.0</td>\n",
       "      <td>3.0</td>\n",
       "      <td>no</td>\n",
       "      <td>1.0</td>\n",
       "      <td>25.0</td>\n",
       "      <td>50.0</td>\n",
       "    </tr>\n",
       "    <tr>\n",
       "      <th>3</th>\n",
       "      <td>4</td>\n",
       "      <td>0.0</td>\n",
       "      <td>5.0</td>\n",
       "      <td>interests &amp; preferences</td>\n",
       "      <td>0.0</td>\n",
       "      <td>2.0</td>\n",
       "      <td>NaN</td>\n",
       "      <td>1.0</td>\n",
       "      <td>0.0</td>\n",
       "      <td>12.5</td>\n",
       "      <td>...</td>\n",
       "      <td>0.0</td>\n",
       "      <td>yes</td>\n",
       "      <td>apartment</td>\n",
       "      <td>5.0</td>\n",
       "      <td>17409.0</td>\n",
       "      <td>4.0</td>\n",
       "      <td>no</td>\n",
       "      <td>5.0</td>\n",
       "      <td>50.0</td>\n",
       "      <td>90.0</td>\n",
       "    </tr>\n",
       "    <tr>\n",
       "      <th>4</th>\n",
       "      <td>5</td>\n",
       "      <td>0.0</td>\n",
       "      <td>5.0</td>\n",
       "      <td>work</td>\n",
       "      <td>0.0</td>\n",
       "      <td>6.0</td>\n",
       "      <td>30.0</td>\n",
       "      <td>0.0</td>\n",
       "      <td>0.0</td>\n",
       "      <td>0.0</td>\n",
       "      <td>...</td>\n",
       "      <td>240.0</td>\n",
       "      <td>yes</td>\n",
       "      <td>apartment</td>\n",
       "      <td>5.0</td>\n",
       "      <td>17409.0</td>\n",
       "      <td>2.0</td>\n",
       "      <td>no</td>\n",
       "      <td>5.0</td>\n",
       "      <td>50.0</td>\n",
       "      <td>75.0</td>\n",
       "    </tr>\n",
       "  </tbody>\n",
       "</table>\n",
       "<p>5 rows × 113 columns</p>\n",
       "</div>"
      ],
      "text/plain": [
       "   node_id  cicle_others_TL  psycho_TLmistakes       context_motivation  \\\n",
       "0        1              5.0                5.0         work & interests   \n",
       "1        2             10.0                4.0                     work   \n",
       "2        3             15.0                1.0                    study   \n",
       "3        4              0.0                5.0  interests & preferences   \n",
       "4        5              0.0                5.0                     work   \n",
       "\n",
       "   circle_friends_L2  metric_youngersiblings  cir_writingminday  \\\n",
       "0                0.0                     9.0                NaN   \n",
       "1                5.0                     0.0               20.0   \n",
       "2                0.0                     1.0               15.0   \n",
       "3                0.0                     2.0                NaN   \n",
       "4                0.0                     6.0               30.0   \n",
       "\n",
       "   metric_level gained  circle_partnerwithfamily_L1  circle_classmates_TL  \\\n",
       "0                  2.0                         15.0                   5.0   \n",
       "1                  3.0                         40.0                   0.0   \n",
       "2                  3.0                          0.0                  15.0   \n",
       "3                  1.0                          0.0                  12.5   \n",
       "4                  0.0                          0.0                   0.0   \n",
       "\n",
       "   ...  psycho_otherlgsminday living_sharing#sameL1  living_accommodation  \\\n",
       "0  ...                  920.0                   yes             apartment   \n",
       "1  ...                  250.0                   yes             apartment   \n",
       "2  ...                    5.0                   yes             apartment   \n",
       "3  ...                    0.0                   yes             apartment   \n",
       "4  ...                  240.0                   yes             apartment   \n",
       "\n",
       "  psycho_TLstudyenjoyment  context_arrival_TLcountry  improv_gmr  \\\n",
       "0                     5.0                    17409.0         3.0   \n",
       "1                     5.0                    17409.0         4.0   \n",
       "2                     3.0                    17409.0         3.0   \n",
       "3                     5.0                    17409.0         4.0   \n",
       "4                     5.0                    17409.0         2.0   \n",
       "\n",
       "   living_communication_TL psycho_mix_BAL2 cir_f2fpropTL  cir_writingpropL1  \n",
       "0                       no             5.0          55.0               50.0  \n",
       "1                       no             2.0          40.0               75.0  \n",
       "2                       no             1.0          25.0               50.0  \n",
       "3                       no             5.0          50.0               90.0  \n",
       "4                       no             5.0          50.0               75.0  \n",
       "\n",
       "[5 rows x 113 columns]"
      ]
     },
     "execution_count": 4,
     "metadata": {},
     "output_type": "execute_result"
    }
   ],
   "source": [
    "nodes_df = pd.read_csv(nodes_path, index_col=0)\n",
    "nodes_df.head()"
   ]
  },
  {
   "cell_type": "code",
   "execution_count": 5,
   "metadata": {},
   "outputs": [
    {
     "data": {
      "text/html": [
       "<div>\n",
       "<style scoped>\n",
       "    .dataframe tbody tr th:only-of-type {\n",
       "        vertical-align: middle;\n",
       "    }\n",
       "\n",
       "    .dataframe tbody tr th {\n",
       "        vertical-align: top;\n",
       "    }\n",
       "\n",
       "    .dataframe thead th {\n",
       "        text-align: right;\n",
       "    }\n",
       "</style>\n",
       "<table border=\"1\" class=\"dataframe\">\n",
       "  <thead>\n",
       "    <tr style=\"text-align: right;\">\n",
       "      <th></th>\n",
       "      <th>source</th>\n",
       "      <th>target</th>\n",
       "      <th>weight</th>\n",
       "    </tr>\n",
       "  </thead>\n",
       "  <tbody>\n",
       "    <tr>\n",
       "      <th>0</th>\n",
       "      <td>2</td>\n",
       "      <td>6</td>\n",
       "      <td>1.0</td>\n",
       "    </tr>\n",
       "    <tr>\n",
       "      <th>1</th>\n",
       "      <td>2</td>\n",
       "      <td>4</td>\n",
       "      <td>0.2</td>\n",
       "    </tr>\n",
       "    <tr>\n",
       "      <th>2</th>\n",
       "      <td>2</td>\n",
       "      <td>39</td>\n",
       "      <td>0.4</td>\n",
       "    </tr>\n",
       "    <tr>\n",
       "      <th>3</th>\n",
       "      <td>2</td>\n",
       "      <td>19</td>\n",
       "      <td>0.6</td>\n",
       "    </tr>\n",
       "    <tr>\n",
       "      <th>4</th>\n",
       "      <td>2</td>\n",
       "      <td>28</td>\n",
       "      <td>0.8</td>\n",
       "    </tr>\n",
       "  </tbody>\n",
       "</table>\n",
       "</div>"
      ],
      "text/plain": [
       "   source  target  weight\n",
       "0       2       6     1.0\n",
       "1       2       4     0.2\n",
       "2       2      39     0.4\n",
       "3       2      19     0.6\n",
       "4       2      28     0.8"
      ]
     },
     "execution_count": 5,
     "metadata": {},
     "output_type": "execute_result"
    }
   ],
   "source": [
    "ego_edges = pd.read_csv(ego_net_path, index_col=0)\n",
    "ego_edges.head()"
   ]
  },
  {
   "cell_type": "code",
   "execution_count": 6,
   "metadata": {},
   "outputs": [
    {
     "data": {
      "text/html": [
       "<div>\n",
       "<style scoped>\n",
       "    .dataframe tbody tr th:only-of-type {\n",
       "        vertical-align: middle;\n",
       "    }\n",
       "\n",
       "    .dataframe tbody tr th {\n",
       "        vertical-align: top;\n",
       "    }\n",
       "\n",
       "    .dataframe thead th {\n",
       "        text-align: right;\n",
       "    }\n",
       "</style>\n",
       "<table border=\"1\" class=\"dataframe\">\n",
       "  <thead>\n",
       "    <tr style=\"text-align: right;\">\n",
       "      <th></th>\n",
       "      <th>source</th>\n",
       "      <th>target</th>\n",
       "      <th>direction</th>\n",
       "      <th>intensity</th>\n",
       "      <th>lang_usage</th>\n",
       "    </tr>\n",
       "  </thead>\n",
       "  <tbody>\n",
       "    <tr>\n",
       "      <th>0</th>\n",
       "      <td>1</td>\n",
       "      <td>32</td>\n",
       "      <td>out</td>\n",
       "      <td>1</td>\n",
       "      <td>0</td>\n",
       "    </tr>\n",
       "    <tr>\n",
       "      <th>1</th>\n",
       "      <td>1</td>\n",
       "      <td>39</td>\n",
       "      <td>out</td>\n",
       "      <td>4</td>\n",
       "      <td>0</td>\n",
       "    </tr>\n",
       "    <tr>\n",
       "      <th>2</th>\n",
       "      <td>1</td>\n",
       "      <td>34</td>\n",
       "      <td>in</td>\n",
       "      <td>4</td>\n",
       "      <td>0</td>\n",
       "    </tr>\n",
       "    <tr>\n",
       "      <th>3</th>\n",
       "      <td>1</td>\n",
       "      <td>41</td>\n",
       "      <td>out</td>\n",
       "      <td>0</td>\n",
       "      <td>0</td>\n",
       "    </tr>\n",
       "    <tr>\n",
       "      <th>4</th>\n",
       "      <td>1</td>\n",
       "      <td>8</td>\n",
       "      <td>out</td>\n",
       "      <td>5</td>\n",
       "      <td>0</td>\n",
       "    </tr>\n",
       "  </tbody>\n",
       "</table>\n",
       "</div>"
      ],
      "text/plain": [
       "   source  target direction  intensity  lang_usage\n",
       "0       1      32       out          1           0\n",
       "1       1      39       out          4           0\n",
       "2       1      34        in          4           0\n",
       "3       1      41       out          0           0\n",
       "4       1       8       out          5           0"
      ]
     },
     "execution_count": 6,
     "metadata": {},
     "output_type": "execute_result"
    }
   ],
   "source": [
    "course_edges = pd.read_csv(course_net_path, index_col=0)\n",
    "course_edges.head()"
   ]
  },
  {
   "cell_type": "code",
   "execution_count": 7,
   "metadata": {},
   "outputs": [],
   "source": [
    "new_edges = ego_edges.merge(course_edges, on=[\"source\", \"target\"], how=\"left\")\n",
    "assert len(new_edges) == len(ego_edges)\n",
    "new_edges = new_edges.drop(\"direction\", axis=1)"
   ]
  },
  {
   "attachments": {},
   "cell_type": "markdown",
   "metadata": {},
   "source": [
    "## filter out egde list to quartiles"
   ]
  },
  {
   "cell_type": "code",
   "execution_count": 8,
   "metadata": {},
   "outputs": [
    {
     "data": {
      "text/plain": [
       "array([[<AxesSubplot: title={'center': 'lang_usage'}>]], dtype=object)"
      ]
     },
     "execution_count": 8,
     "metadata": {},
     "output_type": "execute_result"
    },
    {
     "data": {
      "image/png": "[encoded data removed]",
      "text/plain": [
       "<Figure size 640x480 with 1 Axes>"
      ]
     },
     "metadata": {},
     "output_type": "display_data"
    }
   ],
   "source": [
    "new_edges.hist(\"lang_usage\")"
   ]
  },
  {
   "cell_type": "code",
   "execution_count": 9,
   "metadata": {},
   "outputs": [
    {
     "data": {
      "image/png": "[encoded data removed]",
      "text/plain": [
       "<Figure size 640x480 with 1 Axes>"
      ]
     },
     "metadata": {},
     "output_type": "display_data"
    },
    {
     "data": {
      "image/png": "[encoded data removed]",
      "text/plain": [
       "<Figure size 640x480 with 1 Axes>"
      ]
     },
     "metadata": {},
     "output_type": "display_data"
    },
    {
     "data": {
      "image/png": "[encoded data removed]",
      "text/plain": [
       "<Figure size 640x480 with 1 Axes>"
      ]
     },
     "metadata": {},
     "output_type": "display_data"
    },
    {
     "data": {
      "image/png": "[encoded data removed]",
      "text/plain": [
       "<Figure size 640x480 with 1 Axes>"
      ]
     },
     "metadata": {},
     "output_type": "display_data"
    }
   ],
   "source": [
    "bins = [(0, 2.5), (2.5, 5), (5, 7.5), (7.5, 10)]\n",
    "for quartile, bin in enumerate(bins):\n",
    "    edge_slice = new_edges.loc[(new_edges[\"lang_usage\"] < bin[1]) & (new_edges[\"lang_usage\"] >= bin[0])]\n",
    "    edge_slice.hist(\"lang_usage\")\n",
    "\n",
    "    csv_path = reports_path / f\"tl{quartile}_edges\"\n",
    "    csv_path.mkdir(exist_ok=True, parents=True)\n",
    "\n",
    "    edge_slice.to_csv(csv_path / f\"{snapshot}_tl{quartile}_edges.csv\")"
   ]
  },
  {
   "cell_type": "code",
   "execution_count": 10,
   "metadata": {},
   "outputs": [
    {
     "data": {
      "image/png": "[encoded data removed]",
      "text/plain": [
       "<Figure size 640x480 with 1 Axes>"
      ]
     },
     "metadata": {},
     "output_type": "display_data"
    }
   ],
   "source": [
    "edge_slice = new_edges.loc[(new_edges[\"lang_usage\"] >= 2.5)]\n",
    "edge_slice.hist(\"lang_usage\")\n",
    "\n",
    "csv_path = reports_path / f\"tl123_edges\"\n",
    "csv_path.mkdir(exist_ok=True, parents=True)\n",
    "edge_slice.to_csv(csv_path / f\"{snapshot}_tl123_edges.csv\")"
   ]
  }
 ],
 "metadata": {
  "kernelspec": {
   "display_name": "mldev",
   "language": "python",
   "name": "python3"
  },
  "language_info": {
   "codemirror_mode": {
    "name": "ipython",
    "version": 3
   },
   "file_extension": ".py",
   "mimetype": "text/x-python",
   "name": "python",
   "nbconvert_exporter": "python",
   "pygments_lexer": "ipython3",
   "version": "3.10.10"
  },
  "orig_nbformat": 4
 },
 "nbformat": 4,
 "nbformat_minor": 2
}
