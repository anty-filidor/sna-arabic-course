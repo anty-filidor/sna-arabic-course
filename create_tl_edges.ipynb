{
 "cells": [
  {
   "cell_type": "code",
   "execution_count": null,
   "metadata": {},
   "outputs": [],
   "source": [
    "from pathlib import Path\n",
    "\n",
    "import pandas as pd"
   ]
  },
  {
   "cell_type": "code",
   "execution_count": null,
   "metadata": {},
   "outputs": [],
   "source": [
    "reports_path = Path(\"networks\")\n",
    "reports_path.mkdir(exist_ok=True, parents=True)"
   ]
  },
  {
   "cell_type": "code",
   "execution_count": null,
   "metadata": {},
   "outputs": [],
   "source": [
    "snapshot = 1  # <- change me to obtain egde list from another snapshot\n",
    "\n",
    "ego_net_path = Path(f\"networks/ego_edges/{snapshot}_ego_edges.csv\")\n",
    "course_net_path = Path(f\"networks/course_edges/{snapshot}_course_edges.csv\")\n",
    "\n",
    "nodes_path = Path(f\"networks/{snapshot}_nodes.csv\")"
   ]
  },
  {
   "cell_type": "code",
   "execution_count": null,
   "metadata": {},
   "outputs": [],
   "source": [
    "nodes_df = pd.read_csv(nodes_path, index_col=0)\n",
    "nodes_df.head()"
   ]
  },
  {
   "cell_type": "code",
   "execution_count": null,
   "metadata": {},
   "outputs": [],
   "source": [
    "ego_edges = pd.read_csv(ego_net_path, index_col=0)\n",
    "ego_edges.head()"
   ]
  },
  {
   "cell_type": "code",
   "execution_count": null,
   "metadata": {},
   "outputs": [],
   "source": [
    "course_edges = pd.read_csv(course_net_path, index_col=0)\n",
    "course_edges.head()"
   ]
  },
  {
   "cell_type": "code",
   "execution_count": null,
   "metadata": {},
   "outputs": [],
   "source": [
    "new_edges = ego_edges.merge(course_edges, on=[\"source\", \"target\"], how=\"left\")\n",
    "assert len(new_edges) == len(ego_edges)\n",
    "new_edges = new_edges.drop(\"direction\", axis=1)"
   ]
  },
  {
   "attachments": {},
   "cell_type": "markdown",
   "metadata": {},
   "source": [
    "## filter out egde list to quartiles"
   ]
  },
  {
   "cell_type": "code",
   "execution_count": null,
   "metadata": {},
   "outputs": [],
   "source": [
    "new_edges.hist(\"lang_usage\")"
   ]
  },
  {
   "cell_type": "code",
   "execution_count": null,
   "metadata": {},
   "outputs": [],
   "source": [
    "bins = [(0, 2.5), (2.5, 5), (5, 7.5), (7.5, 10)]\n",
    "for quartile, bin in enumerate(bins):\n",
    "    edge_slice = new_edges.loc[(new_edges[\"lang_usage\"] < bin[1]) & (new_edges[\"lang_usage\"] >= bin[0])]\n",
    "    edge_slice.hist(\"lang_usage\")\n",
    "\n",
    "    csv_path = reports_path / f\"tl{quartile}_edges\"\n",
    "    csv_path.mkdir(exist_ok=True, parents=True)\n",
    "\n",
    "    edge_slice.to_csv(csv_path / f\"{snapshot}_tl{quartile}_edges.csv\")"
   ]
  },
  {
   "cell_type": "code",
   "execution_count": null,
   "metadata": {},
   "outputs": [],
   "source": [
    "edge_slice = new_edges.loc[(new_edges[\"lang_usage\"] >= 2.5)]\n",
    "edge_slice.hist(\"lang_usage\")\n",
    "\n",
    "csv_path = reports_path / f\"tl123_edges\"\n",
    "csv_path.mkdir(exist_ok=True, parents=True)\n",
    "edge_slice.to_csv(csv_path / f\"{snapshot}_tl123_edges.csv\")"
   ]
  }
 ],
 "metadata": {
  "kernelspec": {
   "display_name": "mldev",
   "language": "python",
   "name": "python3"
  },
  "language_info": {
   "codemirror_mode": {
    "name": "ipython",
    "version": 3
   },
   "file_extension": ".py",
   "mimetype": "text/x-python",
   "name": "python",
   "nbconvert_exporter": "python",
   "pygments_lexer": "ipython3",
   "version": "3.10.10"
  },
  "orig_nbformat": 4
 },
 "nbformat": 4,
 "nbformat_minor": 2
}
