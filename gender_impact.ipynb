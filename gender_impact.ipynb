{
 "cells": [
  {
   "cell_type": "markdown",
   "metadata": {},
   "source": [
    "# Wilcoxon test and raw stats extraction from tl123 data"
   ]
  },
  {
   "cell_type": "code",
   "execution_count": null,
   "metadata": {},
   "outputs": [],
   "source": [
    "from pathlib import Path\n",
    "\n",
    "import matplotlib.pyplot as plt\n",
    "import pandas as pd"
   ]
  },
  {
   "attachments": {},
   "cell_type": "markdown",
   "metadata": {},
   "source": [
    "## Load data"
   ]
  },
  {
   "cell_type": "code",
   "execution_count": null,
   "metadata": {},
   "outputs": [],
   "source": [
    "network_type = \"tl123_edges\"\n",
    "\n",
    "df_merged = pd.DataFrame()\n",
    "edas = {}\n",
    "\n",
    "for i in range(1, 4, 1):\n",
    "    eda_path = Path(f\"analysis/{network_type}/{i}_eda.csv\")\n",
    "    eda = pd.read_csv(eda_path, index_col=0)\n",
    "    edas[f\"{i}\"] = eda\n",
    "    df_merged = pd.concat([df_merged, eda], ignore_index=True)\n",
    "\n",
    "edas[\"concatenated\"] = df_merged\n"
   ]
  },
  {
   "attachments": {},
   "cell_type": "markdown",
   "metadata": {},
   "source": [
    "## Select columns to be used in the test"
   ]
  },
  {
   "cell_type": "code",
   "execution_count": null,
   "metadata": {},
   "outputs": [],
   "source": [
    "investigated_cols = [\n",
    "    \"metric_level gained\",\n",
    "    \"interact_classmates\",\n",
    "    \"metric_Gender\",\n",
    "    \"interaction_groupintegration\",\n",
    "    \"psycho_motivationdegree\",\n",
    "    \"psycho_proficiencyingroup_BAL1\",\n",
    "    \"betweenness_weighted\",\n",
    "    \"pagerank_weighhted\",\n",
    "    \"voterank\",\n",
    "]\n",
    "\n",
    "edas = {n: e[investigated_cols] for n, e in edas.items()}"
   ]
  },
  {
   "attachments": {},
   "cell_type": "markdown",
   "metadata": {},
   "source": [
    "## Clean & normalise data"
   ]
  },
  {
   "cell_type": "code",
   "execution_count": null,
   "metadata": {},
   "outputs": [],
   "source": [
    "for n, e in edas.items():\n",
    "    print(f\"{n}\\n\\n\\n\")\n",
    "    cols_with_nans = []\n",
    "    for col in e.columns:\n",
    "        if e[col].isnull().values.any():\n",
    "            print(col, e[col].unique())\n",
    "            cols_with_nans.append(col)\n",
    "    edas[n] = e.fillna({col: 0 for col in cols_with_nans})"
   ]
  },
  {
   "cell_type": "code",
   "execution_count": null,
   "metadata": {},
   "outputs": [],
   "source": [
    "for e in edas.values():\n",
    "    print(e.dtypes)"
   ]
  },
  {
   "cell_type": "code",
   "execution_count": null,
   "metadata": {},
   "outputs": [],
   "source": [
    "for n, e in edas.items():\n",
    "    _df = e.loc[:, e.columns != \"metric_Gender\"]\n",
    "    _df=(_df-_df.min())/(_df.max()-_df.min())\n",
    "    df_norm = pd.concat([e[\"metric_Gender\"], _df], axis=1)\n",
    "    edas[n] = df_norm"
   ]
  },
  {
   "cell_type": "code",
   "execution_count": null,
   "metadata": {},
   "outputs": [],
   "source": [
    "for n, e in edas.items():\n",
    "    print(n)\n",
    "    e.hist()"
   ]
  },
  {
   "attachments": {},
   "cell_type": "markdown",
   "metadata": {},
   "source": [
    "As we can see - distributions certainly don't come from normal distribution"
   ]
  },
  {
   "attachments": {},
   "cell_type": "markdown",
   "metadata": {},
   "source": [
    "## Split by gender"
   ]
  },
  {
   "cell_type": "code",
   "execution_count": null,
   "metadata": {},
   "outputs": [],
   "source": [
    "def split_by_gender(df):\n",
    "    df_female = df.loc[df[\"metric_Gender\"] == \"female\"].drop(\"metric_Gender\", axis=1)\n",
    "    df_male = df.loc[df[\"metric_Gender\"] == \"male\"].drop(\"metric_Gender\", axis=1)\n",
    "    assert len(df_female) + len(df_male) == len(df)\n",
    "    return {\"female\": df_female, \"male\": df_male}\n",
    "\n",
    "edas_split = {name: split_by_gender(eda) for name, eda in edas.items()}"
   ]
  },
  {
   "attachments": {},
   "cell_type": "markdown",
   "metadata": {},
   "source": [
    "## Perform Wilcoxon test"
   ]
  },
  {
   "cell_type": "code",
   "execution_count": null,
   "metadata": {},
   "outputs": [],
   "source": [
    "import numpy as np\n",
    "\n",
    "from scipy.stats import ranksums\n",
    "\n",
    "#correct if the population S.D. is expected to be equal for the two groups.\n",
    "def cohen_d(x,y):\n",
    "    nx = len(x)\n",
    "    ny = len(y)\n",
    "    dof = nx + ny - 2\n",
    "    return (\n",
    "        np.mean(x) - np.mean(y)) / np.sqrt(((nx-1) * np.std(x, ddof=1) ** 2 + (ny-1) * np.std(y, ddof=1) ** 2) / dof\n",
    "    )\n",
    "\n",
    "def test_samples(x: np.ndarray, y: np.ndarray) -> dict:\n",
    "    result = ranksums(x=x, y=y, alternative=\"two-sided\")\n",
    "    # cd = cohen_d(x, y)\n",
    "    return {\"p_value\": result.pvalue, \"statistic\": result.statistic} # , \"cohen_d\": cd}\n",
    "\n",
    "def compute_stats(x: np.ndarray) -> dict:\n",
    "    return {\"mean\": x.mean(), \"std\": x.std(), \"size\": len(x)}"
   ]
  },
  {
   "cell_type": "code",
   "execution_count": null,
   "metadata": {},
   "outputs": [],
   "source": [
    "wilcoxon_rank_sum_test = []\n",
    "\n",
    "for snapshot, eda in edas_split.items():\n",
    "    for col in eda[\"female\"].columns:\n",
    "        f_feature = eda[\"female\"][col].to_numpy()\n",
    "        m_feature = eda[\"male\"][col].to_numpy()\n",
    "        stats = test_samples(f_feature, m_feature)\n",
    "        wilcoxon_rank_sum_test.append({\"snapshot\": snapshot, \"feature\": col, **stats})\n",
    "\n",
    "pd.DataFrame(wilcoxon_rank_sum_test).to_csv(f\"analysis/{network_type}/wilcoxon_rank_sum_test.csv\")"
   ]
  },
  {
   "cell_type": "code",
   "execution_count": null,
   "metadata": {},
   "outputs": [],
   "source": [
    "raw_stats = []\n",
    "\n",
    "for snapshot, eda in edas_split.items():\n",
    "    for gender in [\"female\", \"male\"]:\n",
    "        for col in eda[gender].columns:\n",
    "            f_feature = eda[gender][col].to_numpy()\n",
    "            raw_stats.append(\n",
    "                {\"snapshot\": snapshot, \"feature\": col, \"gender\": gender, **compute_stats(f_feature)}\n",
    "            )\n",
    "\n",
    "pd.DataFrame(raw_stats).to_csv(f\"analysis/{network_type}/raw_stats.csv\")"
   ]
  }
 ],
 "metadata": {
  "kernelspec": {
   "display_name": "mldev",
   "language": "python",
   "name": "python3"
  },
  "language_info": {
   "codemirror_mode": {
    "name": "ipython",
    "version": 3
   },
   "file_extension": ".py",
   "mimetype": "text/x-python",
   "name": "python",
   "nbconvert_exporter": "python",
   "pygments_lexer": "ipython3",
   "version": "3.10.10"
  },
  "orig_nbformat": 4
 },
 "nbformat": 4,
 "nbformat_minor": 2
}
