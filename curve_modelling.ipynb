{
 "cells": [
  {
   "cell_type": "code",
   "execution_count": null,
   "metadata": {},
   "outputs": [],
   "source": [
    "from pathlib import Path\n",
    "from typing import Dict, List\n",
    "\n",
    "import matplotlib.pyplot as plt\n",
    "import numpy as np\n",
    "import pandas as pd\n",
    "\n",
    "from matplotlib.backends.backend_pdf import PdfPages"
   ]
  },
  {
   "cell_type": "code",
   "execution_count": null,
   "metadata": {},
   "outputs": [],
   "source": [
    "# load trhee snapshots of node attrs\n",
    "eda_path_1 = Path(f\"analysis/1_eda.csv\")\n",
    "eda_path_2 = Path(f\"analysis/2_eda.csv\")\n",
    "eda_path_3 = Path(f\"analysis/3_eda.csv\")"
   ]
  },
  {
   "cell_type": "code",
   "execution_count": null,
   "metadata": {},
   "outputs": [],
   "source": [
    "eda_1 = pd.read_csv(eda_path_1, index_col=0)\n",
    "eda_2 = pd.read_csv(eda_path_2, index_col=0)\n",
    "eda_3 = pd.read_csv(eda_path_3, index_col=0)\n",
    "\n",
    "eda_3.head()"
   ]
  },
  {
   "cell_type": "code",
   "execution_count": null,
   "metadata": {},
   "outputs": [],
   "source": [
    "# execute if you want to extract stats for one gender only\n",
    "genders = (\"female\", \"male\", \"all_genders\")\n",
    "selected_gender = genders[2]  # <- select proper gender!!!\n",
    "\n",
    "if selected_gender != genders[-1]:\n",
    "    eda_1 = eda_1.loc[eda_1[\"metric_Gender\"] == selected_gender]\n",
    "    eda_2 = eda_2.loc[eda_2[\"metric_Gender\"] == selected_gender]\n",
    "    eda_3 = eda_3.loc[eda_3[\"metric_Gender\"] == selected_gender]"
   ]
  },
  {
   "cell_type": "code",
   "execution_count": null,
   "metadata": {},
   "outputs": [],
   "source": [
    "eda_1.columns, len(eda_1.columns), len(eda_1)"
   ]
  },
  {
   "cell_type": "code",
   "execution_count": null,
   "metadata": {},
   "outputs": [],
   "source": [
    "def plot_time_curve(snapshots: List[pd.DataFrame], column: str, pdf_writer: PdfPages) -> None:\n",
    "\n",
    "    series: Dict[str, np.ndarray] = {}\n",
    "    for idx, snapshot in enumerate(snapshots, 1):  # snapshots are ordered by time ascending!!!\n",
    "        arr = snapshot[column].to_numpy()\n",
    "        arr = arr[~np.isnan(arr)]\n",
    "        series[f\"snapshot: {idx}\"] = arr\n",
    "    \n",
    "    fig, ax = plt.subplots()\n",
    "    ax.boxplot(series.values(), patch_artist=False, meanline=True)\n",
    "    ax.set_xticklabels(series.keys())\n",
    "    fig.suptitle(f\"Change of {column} during examination\")\n",
    "    fig.savefig(pdf_writer, format=\"pdf\")\n",
    "    plt.close(fig)\n",
    "    "
   ]
  },
  {
   "cell_type": "code",
   "execution_count": null,
   "metadata": {},
   "outputs": [],
   "source": [
    "with PdfPages(f\"analysis/time_plots_{selected_gender}.pdf\") as pdf:\n",
    "    for col in eda_1.columns:\n",
    "        if not pd.api.types.is_numeric_dtype(eda_1[col]):\n",
    "            continue\n",
    "        arr = plot_time_curve([eda_1, eda_2, eda_3], col, pdf)"
   ]
  }
 ],
 "metadata": {
  "kernelspec": {
   "display_name": "mldev",
   "language": "python",
   "name": "python3"
  },
  "language_info": {
   "codemirror_mode": {
    "name": "ipython",
    "version": 3
   },
   "file_extension": ".py",
   "mimetype": "text/x-python",
   "name": "python",
   "nbconvert_exporter": "python",
   "pygments_lexer": "ipython3",
   "version": "3.10.10"
  },
  "orig_nbformat": 4
 },
 "nbformat": 4,
 "nbformat_minor": 2
}
