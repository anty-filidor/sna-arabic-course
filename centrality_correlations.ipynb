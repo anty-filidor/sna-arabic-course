{
 "cells": [
  {
   "cell_type": "code",
   "execution_count": null,
   "metadata": {},
   "outputs": [],
   "source": [
    "import copy\n",
    "from pathlib import Path\n",
    "\n",
    "import matplotlib.pyplot as plt\n",
    "import networkx as nx\n",
    "import pandas as pd\n",
    "import ydata_profiling"
   ]
  },
  {
   "attachments": {},
   "cell_type": "markdown",
   "metadata": {},
   "source": [
    "## Select paths and load data"
   ]
  },
  {
   "cell_type": "code",
   "execution_count": null,
   "metadata": {},
   "outputs": [],
   "source": [
    "reports_path = Path(\"analysis\")\n",
    "reports_path.mkdir(exist_ok=True, parents=True)"
   ]
  },
  {
   "cell_type": "code",
   "execution_count": null,
   "metadata": {},
   "outputs": [],
   "source": [
    "snapshot = 3``\n",
    "net_path = Path(f\"networks/{snapshot}_ego_edges.csv\")\n",
    "nodes_path = Path(f\"networks/{snapshot}_nodes.csv\")"
   ]
  },
  {
   "cell_type": "code",
   "execution_count": null,
   "metadata": {},
   "outputs": [],
   "source": [
    "nodes_df = pd.read_csv(nodes_path, index_col=0)\n",
    "nodes_df.head()"
   ]
  },
  {
   "cell_type": "code",
   "execution_count": null,
   "metadata": {},
   "outputs": [],
   "source": [
    "_edges = pd.read_csv(net_path, index_col=0)\n",
    "net = nx.from_pandas_edgelist(_edges, create_using=nx.DiGraph, edge_attr=\"weight\")"
   ]
  },
  {
   "cell_type": "code",
   "execution_count": null,
   "metadata": {},
   "outputs": [],
   "source": [
    "len(net.edges), len(net.nodes)"
   ]
  },
  {
   "cell_type": "code",
   "execution_count": null,
   "metadata": {},
   "outputs": [],
   "source": [
    "nx.draw_networkx(net, pos=nx.spring_layout(net))  "
   ]
  },
  {
   "attachments": {},
   "cell_type": "markdown",
   "metadata": {},
   "source": [
    "## Centrality computations"
   ]
  },
  {
   "cell_type": "code",
   "execution_count": null,
   "metadata": {},
   "outputs": [],
   "source": [
    "lst_metrics = []\n",
    "\n",
    "_unweighted_net = copy.deepcopy(net)\n",
    "for (n1, n2, d) in _unweighted_net.edges(data=True):\n",
    "    d.clear()\n",
    "\n",
    "lst_metrics.append({\"in_degree_weighted\": dict(net.in_degree(weight=\"weight\"))})\n",
    "lst_metrics.append({\"in_degree\": dict(net.in_degree())})\n",
    "\n",
    "lst_metrics.append({\"out_degree_weighted\": dict(net.out_degree(weight=\"weight\"))})\n",
    "lst_metrics.append({\"out_degree\": dict(net.out_degree())})\n",
    "\n",
    "lst_metrics.append({\"betweenness_weighted\": nx.betweenness_centrality(net, weight=\"weight\")})\n",
    "lst_metrics.append({\"betweenness\": nx.betweenness_centrality(net)})\n",
    "\n",
    "lst_metrics.append({\"closeness\": nx.closeness_centrality(net)})\n",
    "\n",
    "lst_metrics.append({\"pagerank_weighhted\": nx.pagerank(net, weight=\"weight\")})\n",
    "\n",
    "lst_metrics.append({\"pagerank\": nx.pagerank(_unweighted_net)})\n",
    "\n",
    "lst_metrics.append({\"voterank\": {n: idx for idx, n in enumerate(nx.voterank(net))}})"
   ]
  },
  {
   "cell_type": "code",
   "execution_count": null,
   "metadata": {},
   "outputs": [],
   "source": [
    "dict_metrics = {k:v for lm in lst_metrics for k, v in lm.items()}\n",
    "df_metrics = pd.DataFrame(dict_metrics)\n",
    "\n",
    "df_metrics.head()"
   ]
  },
  {
   "attachments": {},
   "cell_type": "markdown",
   "metadata": {},
   "source": [
    "## Merge with node attrs"
   ]
  },
  {
   "cell_type": "code",
   "execution_count": null,
   "metadata": {},
   "outputs": [],
   "source": [
    "investigated_node_attrs = nodes_df[[\"metric_postsojournOPI\", \"metric_presojournOPI\", \"metric_level gained\"]]\n",
    "\n",
    "investigated_node_attrs.head()"
   ]
  },
  {
   "cell_type": "code",
   "execution_count": null,
   "metadata": {},
   "outputs": [],
   "source": [
    "merged_df = pd.merge(investigated_node_attrs, df_metrics, left_index=True, right_index=True)\n",
    "\n",
    "merged_df.head()"
   ]
  },
  {
   "attachments": {},
   "cell_type": "markdown",
   "metadata": {},
   "source": [
    "## Compute correlations"
   ]
  },
  {
   "cell_type": "code",
   "execution_count": null,
   "metadata": {},
   "outputs": [],
   "source": [
    "report = ydata_profiling.ProfileReport(merged_df, title=f\"EDA of snapshot {snapshot}\")\n",
    "report.to_file(reports_path / f\"{snapshot}_eda.html\")"
   ]
  }
 ],
 "metadata": {
  "kernelspec": {
   "display_name": "mldev",
   "language": "python",
   "name": "python3"
  },
  "language_info": {
   "codemirror_mode": {
    "name": "ipython",
    "version": 3
   },
   "file_extension": ".py",
   "mimetype": "text/x-python",
   "name": "python",
   "nbconvert_exporter": "python",
   "pygments_lexer": "ipython3",
   "version": "3.10.10"
  },
  "orig_nbformat": 4
 },
 "nbformat": 4,
 "nbformat_minor": 2
}
