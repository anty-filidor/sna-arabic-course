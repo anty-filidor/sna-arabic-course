{
 "cells": [
  {
   "cell_type": "markdown",
   "metadata": {},
   "source": [
    "# Average centrality_correlations for each snap and analyse result"
   ]
  },
  {
   "cell_type": "code",
   "execution_count": null,
   "metadata": {},
   "outputs": [],
   "source": [
    "from pathlib import Path\n",
    "\n",
    "import pandas as pd\n",
    "import ydata_profiling"
   ]
  },
  {
   "cell_type": "markdown",
   "metadata": {},
   "source": [
    "## Load data"
   ]
  },
  {
   "cell_type": "code",
   "execution_count": null,
   "metadata": {},
   "outputs": [],
   "source": [
    "network_type = \"tl123_edges\"\n",
    "\n",
    "edas = {}\n",
    "\n",
    "for i in range(1, 4, 1):\n",
    "    eda_path = Path(f\"analysis/{network_type}/{i}_eda.csv\")\n",
    "    eda = pd.read_csv(eda_path, index_col=0)\n",
    "    eda = eda.reset_index().rename(columns={\"index\": \"node\"})\n",
    "    eda[\"snap_present\"] = 1\n",
    "    edas[f\"{i}\"] = eda\n"
   ]
  },
  {
   "cell_type": "markdown",
   "metadata": {},
   "source": [
    "## Average results"
   ]
  },
  {
   "cell_type": "code",
   "execution_count": null,
   "metadata": {},
   "outputs": [],
   "source": [
    "# Merge DataFrames\n",
    "merged_df = pd.concat([edas[\"1\"], edas[\"2\"], edas[\"3\"]], keys=[\"snapshot1\", \"snapshot2\", \"snapshot3\"])"
   ]
  },
  {
   "cell_type": "code",
   "execution_count": null,
   "metadata": {},
   "outputs": [],
   "source": [
    "# Aggregate genders\n",
    "_ga = []\n",
    "for snap, eda in edas.items():\n",
    "    _ga.append(eda[[\"node\", \"metric_Gender\"]])\n",
    "genders_aggregated = pd.concat(_ga, axis=0).sort_values(\"node\").drop_duplicates().reset_index(drop=True).set_index(\"node\")\n",
    "\n",
    "genders_aggregated"
   ]
  },
  {
   "cell_type": "code",
   "execution_count": null,
   "metadata": {},
   "outputs": [],
   "source": [
    "# Select only numerical columns for grouping and mean calculation\n",
    "numerical_columns = merged_df.select_dtypes(include=\"number\").columns\n",
    "average_values = merged_df[numerical_columns].groupby(\"node\").mean()\n",
    "\n",
    "# Add column to present numer of snaphsots that particular node was present in\n",
    "average_values[\"snap_present\"] = merged_df[[\"snap_present\", \"node\"]].groupby(\"node\").sum()\n",
    "\n",
    "average_values"
   ]
  },
  {
   "cell_type": "code",
   "execution_count": null,
   "metadata": {},
   "outputs": [],
   "source": [
    "# Merge EDA and genders\n",
    "average_values_with_sex = average_values.join(genders_aggregated, on=\"node\")"
   ]
  },
  {
   "cell_type": "markdown",
   "metadata": {},
   "source": [
    "## Perform analysis"
   ]
  },
  {
   "cell_type": "code",
   "execution_count": null,
   "metadata": {},
   "outputs": [],
   "source": [
    "report = ydata_profiling.ProfileReport(\n",
    "    average_values_with_sex,\n",
    "    title=f\"EDA of averaged snapshots\",\n",
    "    infer_dtypes=False,\n",
    "    explorative=True,\n",
    "    correlations={\n",
    "        \"auto\": {\"calculate\": True},\n",
    "        \"pearson\": {\"calculate\": True},\n",
    "        \"spearman\": {\"calculate\": True},\n",
    "    },\n",
    ")"
   ]
  },
  {
   "cell_type": "markdown",
   "metadata": {},
   "source": [
    "## Save output"
   ]
  },
  {
   "cell_type": "code",
   "execution_count": null,
   "metadata": {},
   "outputs": [],
   "source": [
    "average_values_with_sex.to_csv(f\"analysis/{network_type}/avg_eda.csv\")\n",
    "report.to_file(f\"analysis/{network_type}/avg_eda.html\")"
   ]
  }
 ],
 "metadata": {
  "kernelspec": {
   "display_name": "ltm-seeding-mln",
   "language": "python",
   "name": "ltm-seeding-mln"
  },
  "language_info": {
   "codemirror_mode": {
    "name": "ipython",
    "version": 3
   },
   "file_extension": ".py",
   "mimetype": "text/x-python",
   "name": "python",
   "nbconvert_exporter": "python",
   "pygments_lexer": "ipython3",
   "version": "3.10.10"
  }
 },
 "nbformat": 4,
 "nbformat_minor": 2
}
